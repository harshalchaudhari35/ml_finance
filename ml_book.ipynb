{
 "cells": [
  {
   "cell_type": "markdown",
   "metadata": {},
   "source": [
    "## Imports"
   ]
  },
  {
   "cell_type": "code",
   "execution_count": 1,
   "metadata": {},
   "outputs": [],
   "source": [
    "import numpy as np\n",
    "import pandas as pd\n",
    "from sklearn.neighbors import KernelDensity\n",
    "import matplotlib.pyplot as plt\n",
    "plt.style.use('seaborn')"
   ]
  },
  {
   "cell_type": "markdown",
   "metadata": {},
   "source": [
    "### Marchencho Pastur and Other functions"
   ]
  },
  {
   "cell_type": "code",
   "execution_count": 2,
   "metadata": {},
   "outputs": [],
   "source": [
    "def mpPDF(var,q,pts):\n",
    "    # Marcenko-Pastur pdf\n",
    "    # q=T/N\n",
    "    eMin,eMax=var*(1-(1./q)**.5)**2,var*(1+(1./q)**.5)**2\n",
    "    eVal=np.linspace(eMin,eMax,pts)\n",
    "    pdf=q/(2*np.pi*var*eVal)*((eMax-eVal)*(eVal-eMin))**.5\n",
    "    pdf=pd.Series(pdf.flatten(),index=eVal.flatten())\n",
    "    return pdf\n",
    "\n",
    "def getPCA(matrix):\n",
    "    # Get eVal,eVec from a Hermitian matrix\n",
    "    eVal,eVec=np.linalg.eigh(matrix)\n",
    "    indices=eVal.argsort()[::-1] # arguments for sorting eVal desc\n",
    "    eVal,eVec=eVal[indices],eVec[:,indices]\n",
    "    eVal=np.diagflat(eVal)\n",
    "    return eVal,eVec\n",
    "\n",
    "def fitKDE(obs,bWidth=.25,kernel='gaussian',x=None):\n",
    "    # Fit kernel to a series of obs, and derive the prob of obs\n",
    "    # x is the array of values on which the fit KDE will be evaluated\n",
    "    if len(obs.shape)==1:\n",
    "        obs=obs.reshape(-1,1)\n",
    "    kde=KernelDensity(kernel=kernel,bandwidth=bWidth).fit(obs)\n",
    "    if x is None:\n",
    "        x=np.unique(obs).reshape(-1,1)\n",
    "    if len(x.shape)==1:\n",
    "        x=x.reshape(-1,1)\n",
    "    logProb=kde.score_samples(x) # log(density)\n",
    "    pdf=pd.Series(np.exp(logProb),index=x.flatten())\n",
    "    return pdf\n"
   ]
  },
  {
   "cell_type": "markdown",
   "metadata": {},
   "source": [
    "## Import CC correlation Data"
   ]
  },
  {
   "cell_type": "code",
   "execution_count": 3,
   "metadata": {},
   "outputs": [],
   "source": [
    "corr_mat = pd.read_csv('corr_matrix_jenna.csv')"
   ]
  },
  {
   "cell_type": "code",
   "execution_count": 4,
   "metadata": {},
   "outputs": [],
   "source": [
    "corr_mat = corr_mat.iloc[:, 1:]"
   ]
  },
  {
   "cell_type": "code",
   "execution_count": 5,
   "metadata": {},
   "outputs": [
    {
     "name": "stdout",
     "output_type": "stream",
     "text": [
      "number of CCs\n"
     ]
    },
    {
     "data": {
      "text/plain": [
       "146"
      ]
     },
     "execution_count": 5,
     "metadata": {},
     "output_type": "execute_result"
    }
   ],
   "source": [
    "print(\"number of CCs\")\n",
    "len(corr_mat.columns)"
   ]
  },
  {
   "cell_type": "code",
   "execution_count": 6,
   "metadata": {},
   "outputs": [
    {
     "data": {
      "text/html": [
       "<div>\n",
       "<style scoped>\n",
       "    .dataframe tbody tr th:only-of-type {\n",
       "        vertical-align: middle;\n",
       "    }\n",
       "\n",
       "    .dataframe tbody tr th {\n",
       "        vertical-align: top;\n",
       "    }\n",
       "\n",
       "    .dataframe thead th {\n",
       "        text-align: right;\n",
       "    }\n",
       "</style>\n",
       "<table border=\"1\" class=\"dataframe\">\n",
       "  <thead>\n",
       "    <tr style=\"text-align: right;\">\n",
       "      <th></th>\n",
       "      <th>BTC</th>\n",
       "      <th>ETH</th>\n",
       "      <th>XRP</th>\n",
       "      <th>USDT</th>\n",
       "      <th>BCH</th>\n",
       "      <th>BSV</th>\n",
       "      <th>LTC</th>\n",
       "      <th>EOS</th>\n",
       "      <th>BNB</th>\n",
       "      <th>XTZ</th>\n",
       "      <th>...</th>\n",
       "      <th>BNT</th>\n",
       "      <th>LOKI</th>\n",
       "      <th>PPT</th>\n",
       "      <th>IOTX</th>\n",
       "      <th>YOU</th>\n",
       "      <th>EDC</th>\n",
       "      <th>XMX</th>\n",
       "      <th>R</th>\n",
       "      <th>FTM</th>\n",
       "      <th>WINK</th>\n",
       "    </tr>\n",
       "  </thead>\n",
       "  <tbody>\n",
       "    <tr>\n",
       "      <th>0</th>\n",
       "      <td>1.000000</td>\n",
       "      <td>0.828023</td>\n",
       "      <td>0.708811</td>\n",
       "      <td>0.230462</td>\n",
       "      <td>0.793383</td>\n",
       "      <td>0.514932</td>\n",
       "      <td>0.739252</td>\n",
       "      <td>0.748623</td>\n",
       "      <td>0.579444</td>\n",
       "      <td>0.484131</td>\n",
       "      <td>...</td>\n",
       "      <td>0.739242</td>\n",
       "      <td>0.384780</td>\n",
       "      <td>0.410056</td>\n",
       "      <td>0.462108</td>\n",
       "      <td>0.200833</td>\n",
       "      <td>0.243157</td>\n",
       "      <td>0.269757</td>\n",
       "      <td>0.289082</td>\n",
       "      <td>0.446247</td>\n",
       "      <td>0.012931</td>\n",
       "    </tr>\n",
       "    <tr>\n",
       "      <th>1</th>\n",
       "      <td>0.828023</td>\n",
       "      <td>1.000000</td>\n",
       "      <td>0.809373</td>\n",
       "      <td>0.167425</td>\n",
       "      <td>0.813135</td>\n",
       "      <td>0.557979</td>\n",
       "      <td>0.825037</td>\n",
       "      <td>0.863855</td>\n",
       "      <td>0.645828</td>\n",
       "      <td>0.508095</td>\n",
       "      <td>...</td>\n",
       "      <td>0.887088</td>\n",
       "      <td>0.368124</td>\n",
       "      <td>0.486960</td>\n",
       "      <td>0.544173</td>\n",
       "      <td>0.217886</td>\n",
       "      <td>0.246854</td>\n",
       "      <td>0.287253</td>\n",
       "      <td>0.314076</td>\n",
       "      <td>0.523428</td>\n",
       "      <td>0.105188</td>\n",
       "    </tr>\n",
       "    <tr>\n",
       "      <th>2</th>\n",
       "      <td>0.708811</td>\n",
       "      <td>0.809373</td>\n",
       "      <td>1.000000</td>\n",
       "      <td>0.161208</td>\n",
       "      <td>0.723930</td>\n",
       "      <td>0.525666</td>\n",
       "      <td>0.736752</td>\n",
       "      <td>0.776160</td>\n",
       "      <td>0.541155</td>\n",
       "      <td>0.523043</td>\n",
       "      <td>...</td>\n",
       "      <td>0.740749</td>\n",
       "      <td>0.340316</td>\n",
       "      <td>0.465338</td>\n",
       "      <td>0.545822</td>\n",
       "      <td>0.176974</td>\n",
       "      <td>0.203045</td>\n",
       "      <td>0.204837</td>\n",
       "      <td>0.254176</td>\n",
       "      <td>0.452100</td>\n",
       "      <td>0.022297</td>\n",
       "    </tr>\n",
       "    <tr>\n",
       "      <th>3</th>\n",
       "      <td>0.230462</td>\n",
       "      <td>0.167425</td>\n",
       "      <td>0.161208</td>\n",
       "      <td>1.000000</td>\n",
       "      <td>0.155791</td>\n",
       "      <td>0.133748</td>\n",
       "      <td>0.155450</td>\n",
       "      <td>0.155750</td>\n",
       "      <td>0.119897</td>\n",
       "      <td>0.187393</td>\n",
       "      <td>...</td>\n",
       "      <td>0.135655</td>\n",
       "      <td>0.095342</td>\n",
       "      <td>0.129481</td>\n",
       "      <td>0.136492</td>\n",
       "      <td>0.075497</td>\n",
       "      <td>0.109761</td>\n",
       "      <td>0.009731</td>\n",
       "      <td>0.067724</td>\n",
       "      <td>0.117066</td>\n",
       "      <td>0.025496</td>\n",
       "    </tr>\n",
       "    <tr>\n",
       "      <th>4</th>\n",
       "      <td>0.793383</td>\n",
       "      <td>0.813135</td>\n",
       "      <td>0.723930</td>\n",
       "      <td>0.155791</td>\n",
       "      <td>1.000000</td>\n",
       "      <td>0.579533</td>\n",
       "      <td>0.810831</td>\n",
       "      <td>0.820908</td>\n",
       "      <td>0.565801</td>\n",
       "      <td>0.415039</td>\n",
       "      <td>...</td>\n",
       "      <td>0.717876</td>\n",
       "      <td>0.364652</td>\n",
       "      <td>0.445721</td>\n",
       "      <td>0.537654</td>\n",
       "      <td>0.182425</td>\n",
       "      <td>0.203736</td>\n",
       "      <td>0.274921</td>\n",
       "      <td>0.343160</td>\n",
       "      <td>0.450771</td>\n",
       "      <td>0.068361</td>\n",
       "    </tr>\n",
       "    <tr>\n",
       "      <th>...</th>\n",
       "      <td>...</td>\n",
       "      <td>...</td>\n",
       "      <td>...</td>\n",
       "      <td>...</td>\n",
       "      <td>...</td>\n",
       "      <td>...</td>\n",
       "      <td>...</td>\n",
       "      <td>...</td>\n",
       "      <td>...</td>\n",
       "      <td>...</td>\n",
       "      <td>...</td>\n",
       "      <td>...</td>\n",
       "      <td>...</td>\n",
       "      <td>...</td>\n",
       "      <td>...</td>\n",
       "      <td>...</td>\n",
       "      <td>...</td>\n",
       "      <td>...</td>\n",
       "      <td>...</td>\n",
       "      <td>...</td>\n",
       "      <td>...</td>\n",
       "    </tr>\n",
       "    <tr>\n",
       "      <th>141</th>\n",
       "      <td>0.243157</td>\n",
       "      <td>0.246854</td>\n",
       "      <td>0.203045</td>\n",
       "      <td>0.109761</td>\n",
       "      <td>0.203736</td>\n",
       "      <td>0.154249</td>\n",
       "      <td>0.226645</td>\n",
       "      <td>0.262564</td>\n",
       "      <td>0.268038</td>\n",
       "      <td>0.130240</td>\n",
       "      <td>...</td>\n",
       "      <td>0.212653</td>\n",
       "      <td>0.200502</td>\n",
       "      <td>0.106191</td>\n",
       "      <td>0.141038</td>\n",
       "      <td>0.059712</td>\n",
       "      <td>1.000000</td>\n",
       "      <td>0.128921</td>\n",
       "      <td>0.051355</td>\n",
       "      <td>0.152673</td>\n",
       "      <td>0.215506</td>\n",
       "    </tr>\n",
       "    <tr>\n",
       "      <th>142</th>\n",
       "      <td>0.269757</td>\n",
       "      <td>0.287253</td>\n",
       "      <td>0.204837</td>\n",
       "      <td>0.009731</td>\n",
       "      <td>0.274921</td>\n",
       "      <td>0.176330</td>\n",
       "      <td>0.218049</td>\n",
       "      <td>0.223524</td>\n",
       "      <td>0.208150</td>\n",
       "      <td>0.182968</td>\n",
       "      <td>...</td>\n",
       "      <td>0.249081</td>\n",
       "      <td>0.104809</td>\n",
       "      <td>0.091314</td>\n",
       "      <td>0.117935</td>\n",
       "      <td>0.044836</td>\n",
       "      <td>0.128921</td>\n",
       "      <td>1.000000</td>\n",
       "      <td>0.054379</td>\n",
       "      <td>0.218502</td>\n",
       "      <td>0.006347</td>\n",
       "    </tr>\n",
       "    <tr>\n",
       "      <th>143</th>\n",
       "      <td>0.289082</td>\n",
       "      <td>0.314076</td>\n",
       "      <td>0.254176</td>\n",
       "      <td>0.067724</td>\n",
       "      <td>0.343160</td>\n",
       "      <td>0.254861</td>\n",
       "      <td>0.360682</td>\n",
       "      <td>0.306555</td>\n",
       "      <td>0.219988</td>\n",
       "      <td>0.162581</td>\n",
       "      <td>...</td>\n",
       "      <td>0.272194</td>\n",
       "      <td>0.053509</td>\n",
       "      <td>0.193115</td>\n",
       "      <td>0.211529</td>\n",
       "      <td>0.158907</td>\n",
       "      <td>0.051355</td>\n",
       "      <td>0.054379</td>\n",
       "      <td>1.000000</td>\n",
       "      <td>0.268827</td>\n",
       "      <td>0.039687</td>\n",
       "    </tr>\n",
       "    <tr>\n",
       "      <th>144</th>\n",
       "      <td>0.446247</td>\n",
       "      <td>0.523428</td>\n",
       "      <td>0.452100</td>\n",
       "      <td>0.117066</td>\n",
       "      <td>0.450771</td>\n",
       "      <td>0.361361</td>\n",
       "      <td>0.521576</td>\n",
       "      <td>0.505816</td>\n",
       "      <td>0.456896</td>\n",
       "      <td>0.341754</td>\n",
       "      <td>...</td>\n",
       "      <td>0.494529</td>\n",
       "      <td>0.193495</td>\n",
       "      <td>0.347206</td>\n",
       "      <td>0.407709</td>\n",
       "      <td>0.132923</td>\n",
       "      <td>0.152673</td>\n",
       "      <td>0.218502</td>\n",
       "      <td>0.268827</td>\n",
       "      <td>1.000000</td>\n",
       "      <td>0.116134</td>\n",
       "    </tr>\n",
       "    <tr>\n",
       "      <th>145</th>\n",
       "      <td>0.012931</td>\n",
       "      <td>0.105188</td>\n",
       "      <td>0.022297</td>\n",
       "      <td>0.025496</td>\n",
       "      <td>0.068361</td>\n",
       "      <td>0.078378</td>\n",
       "      <td>0.112768</td>\n",
       "      <td>0.129157</td>\n",
       "      <td>0.093563</td>\n",
       "      <td>0.019634</td>\n",
       "      <td>...</td>\n",
       "      <td>0.101011</td>\n",
       "      <td>-0.006537</td>\n",
       "      <td>-0.029552</td>\n",
       "      <td>0.070079</td>\n",
       "      <td>0.015885</td>\n",
       "      <td>0.215506</td>\n",
       "      <td>0.006347</td>\n",
       "      <td>0.039687</td>\n",
       "      <td>0.116134</td>\n",
       "      <td>1.000000</td>\n",
       "    </tr>\n",
       "  </tbody>\n",
       "</table>\n",
       "<p>146 rows × 146 columns</p>\n",
       "</div>"
      ],
      "text/plain": [
       "          BTC       ETH       XRP      USDT       BCH       BSV       LTC  \\\n",
       "0    1.000000  0.828023  0.708811  0.230462  0.793383  0.514932  0.739252   \n",
       "1    0.828023  1.000000  0.809373  0.167425  0.813135  0.557979  0.825037   \n",
       "2    0.708811  0.809373  1.000000  0.161208  0.723930  0.525666  0.736752   \n",
       "3    0.230462  0.167425  0.161208  1.000000  0.155791  0.133748  0.155450   \n",
       "4    0.793383  0.813135  0.723930  0.155791  1.000000  0.579533  0.810831   \n",
       "..        ...       ...       ...       ...       ...       ...       ...   \n",
       "141  0.243157  0.246854  0.203045  0.109761  0.203736  0.154249  0.226645   \n",
       "142  0.269757  0.287253  0.204837  0.009731  0.274921  0.176330  0.218049   \n",
       "143  0.289082  0.314076  0.254176  0.067724  0.343160  0.254861  0.360682   \n",
       "144  0.446247  0.523428  0.452100  0.117066  0.450771  0.361361  0.521576   \n",
       "145  0.012931  0.105188  0.022297  0.025496  0.068361  0.078378  0.112768   \n",
       "\n",
       "          EOS       BNB       XTZ  ...       BNT      LOKI       PPT  \\\n",
       "0    0.748623  0.579444  0.484131  ...  0.739242  0.384780  0.410056   \n",
       "1    0.863855  0.645828  0.508095  ...  0.887088  0.368124  0.486960   \n",
       "2    0.776160  0.541155  0.523043  ...  0.740749  0.340316  0.465338   \n",
       "3    0.155750  0.119897  0.187393  ...  0.135655  0.095342  0.129481   \n",
       "4    0.820908  0.565801  0.415039  ...  0.717876  0.364652  0.445721   \n",
       "..        ...       ...       ...  ...       ...       ...       ...   \n",
       "141  0.262564  0.268038  0.130240  ...  0.212653  0.200502  0.106191   \n",
       "142  0.223524  0.208150  0.182968  ...  0.249081  0.104809  0.091314   \n",
       "143  0.306555  0.219988  0.162581  ...  0.272194  0.053509  0.193115   \n",
       "144  0.505816  0.456896  0.341754  ...  0.494529  0.193495  0.347206   \n",
       "145  0.129157  0.093563  0.019634  ...  0.101011 -0.006537 -0.029552   \n",
       "\n",
       "         IOTX       YOU       EDC       XMX         R       FTM      WINK  \n",
       "0    0.462108  0.200833  0.243157  0.269757  0.289082  0.446247  0.012931  \n",
       "1    0.544173  0.217886  0.246854  0.287253  0.314076  0.523428  0.105188  \n",
       "2    0.545822  0.176974  0.203045  0.204837  0.254176  0.452100  0.022297  \n",
       "3    0.136492  0.075497  0.109761  0.009731  0.067724  0.117066  0.025496  \n",
       "4    0.537654  0.182425  0.203736  0.274921  0.343160  0.450771  0.068361  \n",
       "..        ...       ...       ...       ...       ...       ...       ...  \n",
       "141  0.141038  0.059712  1.000000  0.128921  0.051355  0.152673  0.215506  \n",
       "142  0.117935  0.044836  0.128921  1.000000  0.054379  0.218502  0.006347  \n",
       "143  0.211529  0.158907  0.051355  0.054379  1.000000  0.268827  0.039687  \n",
       "144  0.407709  0.132923  0.152673  0.218502  0.268827  1.000000  0.116134  \n",
       "145  0.070079  0.015885  0.215506  0.006347  0.039687  0.116134  1.000000  \n",
       "\n",
       "[146 rows x 146 columns]"
      ]
     },
     "execution_count": 6,
     "metadata": {},
     "output_type": "execute_result"
    }
   ],
   "source": [
    "corr_mat"
   ]
  },
  {
   "cell_type": "markdown",
   "metadata": {},
   "source": [
    "## Section 1:\n",
    "    - Working here randomized examples"
   ]
  },
  {
   "cell_type": "markdown",
   "metadata": {},
   "source": [
    "### Plot Marchenko Pastur PDF and Fit Kernel Density Estimation to get probability of observations"
   ]
  },
  {
   "cell_type": "code",
   "execution_count": 7,
   "metadata": {},
   "outputs": [],
   "source": [
    "x=np.random.normal(size=(10000,1000))\n",
    "eVal0,eVec0=getPCA(np.corrcoef(x,rowvar=0))\n",
    "## Replace with CC matrix here to work with CCs matrix\n",
    "# eVal0,eVec0=getPCA(corr_mat)\n",
    "pdf0=mpPDF(1.,q=x.shape[0]/float(x.shape[1]),pts=1000)\n",
    "pdf1=fitKDE(np.diag(eVal0),bWidth=.01) # empirical pdf"
   ]
  },
  {
   "cell_type": "code",
   "execution_count": 10,
   "metadata": {},
   "outputs": [
    {
     "data": {
      "text/plain": [
       "<matplotlib.axes._subplots.AxesSubplot at 0x7f9cd2f8af10>"
      ]
     },
     "execution_count": 10,
     "metadata": {},
     "output_type": "execute_result"
    },
    {
     "data": {
      "image/png": "[encoded data removed]",
      "text/plain": [
       "<Figure size 576x396 with 1 Axes>"
      ]
     },
     "metadata": {},
     "output_type": "display_data"
    }
   ],
   "source": [
    "# mpPDF\n",
    "pdf0.plot()"
   ]
  },
  {
   "cell_type": "code",
   "execution_count": 8,
   "metadata": {},
   "outputs": [
    {
     "data": {
      "text/plain": [
       "<matplotlib.axes._subplots.AxesSubplot at 0x7f9cd36c87c0>"
      ]
     },
     "execution_count": 8,
     "metadata": {},
     "output_type": "execute_result"
    },
    {
     "data": {
      "image/png": "[encoded data removed]",
      "text/plain": [
       "<Figure size 576x396 with 1 Axes>"
      ]
     },
     "metadata": {},
     "output_type": "display_data"
    }
   ],
   "source": [
    "# fitted KDE\n",
    "pdf1.plot()"
   ]
  },
  {
   "cell_type": "markdown",
   "metadata": {},
   "source": [
    "## Section 2:\n",
    "    - Working here with CCs data"
   ]
  },
  {
   "cell_type": "code",
   "execution_count": null,
   "metadata": {},
   "outputs": [],
   "source": [
    "\"\"\" \n",
    " ADD SIGNAL\n",
    " TO A\n",
    " RANDOM COVARIANCE MATRIX\n",
    "\"\"\"\n",
    "def getRndCov(nCols,nFacts):\n",
    "    w=np.random.normal(size=(nCols,nFacts))\n",
    "    cov=np.dot(w,w.T) # random cov matrix, however not full rank\n",
    "    cov+=np.diag(np.random.uniform(size=nCols)) # full rank cov\n",
    "    return cov\n",
    "\n",
    "def cov2corr(cov):\n",
    "    # Derive the correlation matrix from a covariance matrix\n",
    "    std=np.sqrt(np.diag(cov))\n",
    "    corr=cov/np.outer(std,std)\n",
    "    corr[corr<-1],corr[corr>1]=-1,1 # numerical error\n",
    "    return corr\n",
    "\n",
    "# alpha,nCols,nFact,q=.995,1000,100,10\n",
    "# cov=np.cov(np.random.normal(size=(nCols*q,nCols)),rowvar=0)\n",
    "# cov=alpha*cov+(1-alpha)*getRndCov(nCols,nFact) # noise+signal\n",
    "# corr0=cov2corr(cov)\n",
    "# eVal0,eVec0=getPCA(corr0)\n",
    "\n",
    "\n",
    "\"\"\"\n",
    "Start with CCs correlation matrix \n",
    "\"\"\"\n",
    "eVal0,eVec0=getPCA(corr_mat)\n",
    "# set q factor\n",
    "# q = corr_mat.shape[0]/float(corr_mat.shape[1])\n",
    "q = 2.5"
   ]
  },
  {
   "cell_type": "code",
   "execution_count": 21,
   "metadata": {},
   "outputs": [],
   "source": [
    "\"\"\"\n",
    " FITTING\n",
    " THE\n",
    " MARCENKO–PASTUR PDF\n",
    "\"\"\"\n",
    "from scipy.optimize import minimize\n",
    "def errPDFs(var,eVal,q,bWidth,pts=1000):\n",
    "    # Fit error\n",
    "    pdf0=mpPDF(var,q,pts) # theoretical pdf\n",
    "    pdf1=fitKDE(eVal,bWidth,x=pdf0.index.values) # empirical pdf\n",
    "    sse=np.sum((pdf1-pdf0)**2)\n",
    "    return sse\n",
    "\n",
    "def findMaxEval(eVal,q,bWidth):\n",
    "    # Find max random eVal by fitting Marcenko’s dist\n",
    "    out=minimize(lambda *x: errPDFs(*x), .5 , args=(eVal,q,bWidth),\n",
    "                    bounds=((1E-5,1-1E-5),)\n",
    "                )\n",
    "    if out['success']:\n",
    "        var=out['x'][0]\n",
    "    else:\n",
    "        var=1\n",
    "    eMax=var*(1+(1./q)**.5)**2\n",
    "    return eMax, var\n",
    "\n",
    "# get bulk of Evalue and Variance\n",
    "eMax0, var0=findMaxEval(np.diag(eVal0), q, bWidth=.01)\n",
    "# get nFacts\n",
    "nFacts0=eVal0.shape[0]-np.diag(eVal0)[::-1].searchsorted(eMax0)\n",
    "\n",
    "\n",
    "# pdf0=mpPDF(0.5, q=q, pts=1000)\n",
    "# pdf1=fitKDE(np.diag(eVal0),bWidth=.01,x=pdf0.index.values)"
   ]
  },
  {
   "cell_type": "markdown",
   "metadata": {},
   "source": [
    "### Number of Facts (my understanding of this is number of Eigenvector which are signals, still unclear though)"
   ]
  },
  {
   "cell_type": "code",
   "execution_count": 24,
   "metadata": {},
   "outputs": [
    {
     "data": {
      "text/plain": [
       "7"
      ]
     },
     "execution_count": 24,
     "metadata": {},
     "output_type": "execute_result"
    }
   ],
   "source": [
    "# Number of Facts (my understanding of this is number of Eigenvector which are signals, still unclear though)\n",
    "nFacts0"
   ]
  },
  {
   "cell_type": "markdown",
   "metadata": {},
   "source": [
    "### Variance gives the signal to noise ratio, i.e 1-var0 of variance can be attributed to signal"
   ]
  },
  {
   "cell_type": "code",
   "execution_count": 25,
   "metadata": {},
   "outputs": [
    {
     "data": {
      "text/plain": [
       "0.716400738563991"
      ]
     },
     "execution_count": 25,
     "metadata": {},
     "output_type": "execute_result"
    }
   ],
   "source": [
    "# variance gives the signal to noise ratio, i.e 1-var0 of variance can be attributed to signal\n",
    "var0"
   ]
  },
  {
   "cell_type": "markdown",
   "metadata": {},
   "source": [
    "### Bulk of the Eigen Value"
   ]
  },
  {
   "cell_type": "code",
   "execution_count": 26,
   "metadata": {},
   "outputs": [
    {
     "data": {
      "text/plain": [
       "1.9091442545052024"
      ]
     },
     "execution_count": 26,
     "metadata": {},
     "output_type": "execute_result"
    }
   ],
   "source": [
    "eMax0"
   ]
  },
  {
   "cell_type": "markdown",
   "metadata": {},
   "source": [
    "### plot histogram of E Values"
   ]
  },
  {
   "cell_type": "code",
   "execution_count": 28,
   "metadata": {},
   "outputs": [
    {
     "data": {
      "image/png": "[encoded data removed]",
      "text/plain": [
       "<Figure size 1080x720 with 1 Axes>"
      ]
     },
     "metadata": {},
     "output_type": "display_data"
    }
   ],
   "source": [
    "# plot histogram of E Values\n",
    "plt.figure(figsize=(15,10))\n",
    "plt.xlabel('eVal')\n",
    "plt.ylabel('Prob[eVal]')\n",
    "_ = plt.hist(np.diag(eVal0), bins=100)\n",
    "# plt.plot(pdf1)"
   ]
  },
  {
   "cell_type": "code",
   "execution_count": 29,
   "metadata": {},
   "outputs": [],
   "source": [
    "# # plot histogram of E Values\n",
    "# plt.figure(figsize=(15,10))\n",
    "# plt.xlabel('eVal')\n",
    "# plt.ylabel('Prob[eVal]')\n",
    "# _ = plt.hist(np.diag(eVal0), bins=1000)\n",
    "# # plt.plot(pdf1)"
   ]
  },
  {
   "cell_type": "code",
   "execution_count": 30,
   "metadata": {},
   "outputs": [],
   "source": [
    "\"\"\"\n",
    " SNIPPET 2.5 DENOISING\n",
    " BY\n",
    " CONSTANT RESIDUAL EIGENVALUE\n",
    "\"\"\"\n",
    "def denoisedCorr(eVal,eVec,nFacts):\n",
    "    # Remove noise from corr by fixing random eigenvalues\n",
    "    eVal_=np.diag(eVal).copy()\n",
    "    eVal_[nFacts:]=eVal_[nFacts:].sum()/float(eVal_.shape[0]-nFacts)\n",
    "    eVal_=np.diag(eVal_)\n",
    "    corr1=np.dot(eVec,eVal_).dot(eVec.T)\n",
    "    corr1=cov2corr(corr1)\n",
    "    return corr1\n",
    "\n",
    "# get denoised correlation matrix\n",
    "corr1=denoisedCorr(eVal0,eVec0,nFacts0)\n",
    "eVal1,eVec1=getPCA(corr1)\n"
   ]
  },
  {
   "cell_type": "markdown",
   "metadata": {},
   "source": [
    "## Plot the EigenValue on the log scale and compare for denoised matrix vs original matrix"
   ]
  },
  {
   "cell_type": "code",
   "execution_count": 31,
   "metadata": {},
   "outputs": [
    {
     "data": {
      "text/plain": [
       "[<matplotlib.lines.Line2D at 0x7f9cd2d09c70>]"
      ]
     },
     "execution_count": 31,
     "metadata": {},
     "output_type": "execute_result"
    },
    {
     "data": {
      "image/png": "[encoded data removed]",
      "text/plain": [
       "<Figure size 576x396 with 1 Axes>"
      ]
     },
     "metadata": {},
     "output_type": "display_data"
    }
   ],
   "source": [
    "plt.xlabel('eValue Number')\n",
    "plt.ylabel('eVal Log Scale')\n",
    "plt.plot(np.log(np.diag(eVal1)),color='red') # denoised evalues\n",
    "plt.plot(np.log(np.diag(eVal0)))"
   ]
  },
  {
   "cell_type": "markdown",
   "metadata": {},
   "source": [
    " - Comments: My understanding here is that after we denoise the matrix the strength of eValues which are geninue signal is preserved as opposed being dilute with noise. Requires further clarrification with the team."
   ]
  },
  {
   "cell_type": "code",
   "execution_count": 32,
   "metadata": {},
   "outputs": [],
   "source": [
    "# plt.xlabel('eValue Number')\n",
    "# plt.ylabel('eVal Log Scale')\n",
    "# plt.plot(np.log(np.diag(eVal1)),color='red') # denoised evalues\n",
    "# plt.plot(np.log(np.diag(eVal0)))"
   ]
  },
  {
   "cell_type": "markdown",
   "metadata": {},
   "source": [
    "## Section 3:\n",
    "        - Working here with 3 time windows for top 50Ccs"
   ]
  },
  {
   "cell_type": "code",
   "execution_count": 39,
   "metadata": {},
   "outputs": [],
   "source": [
    "# import data\n",
    "corr_mat_1st = pd.read_csv('Corr_Top50_1sT_Time_Window.csv').iloc[:, 1:]\n",
    "corr_mat_2nd = pd.read_csv('Corr_Top50_2nd_Time_Window.csv').iloc[:, 1:]\n",
    "corr_mat_3rd = pd.read_csv('Corr_Top50_3rd_Time_Window.csv').iloc[:, 1:]"
   ]
  },
  {
   "cell_type": "markdown",
   "metadata": {},
   "source": [
    "### First Time Window"
   ]
  },
  {
   "cell_type": "code",
   "execution_count": 50,
   "metadata": {},
   "outputs": [
    {
     "name": "stdout",
     "output_type": "stream",
     "text": [
      "Number of facts: 1\n",
      "Variance: 0.99999\n",
      "Bulk of Evalue: 2.664884414956712\n"
     ]
    },
    {
     "data": {
      "text/plain": [
       "[<matplotlib.lines.Line2D at 0x7f9cd2a4fa60>]"
      ]
     },
     "execution_count": 50,
     "metadata": {},
     "output_type": "execute_result"
    },
    {
     "data": {
      "image/png": "[encoded data removed]",
      "text/plain": [
       "<Figure size 576x396 with 1 Axes>"
      ]
     },
     "metadata": {},
     "output_type": "display_data"
    }
   ],
   "source": [
    "eVal0,eVec0=getPCA(corr_mat_1st)\n",
    "# set q factor\n",
    "q = 2.5 # T/N 125/50\n",
    "\n",
    "# get bulk of Evalue and Variance\n",
    "eMax0, var0=findMaxEval(np.diag(eVal0), q, bWidth=.01)\n",
    "# get nFacts\n",
    "nFacts0=eVal0.shape[0]-np.diag(eVal0)[::-1].searchsorted(eMax0)\n",
    "\n",
    "print(f'Number of facts: {nFacts0}')\n",
    "print(f'Variance: {var0}')\n",
    "print(f'Bulk of Evalue: {eMax0}')\n",
    "\n",
    "# get denoised correlation matrix\n",
    "corr1=denoisedCorr(eVal0,eVec0,nFacts0)\n",
    "eVal1,eVec1=getPCA(corr1)\n",
    "\n",
    "plt.xlabel('eValue Number')\n",
    "plt.ylabel('eVal Log Scale')\n",
    "plt.plot(np.log(np.diag(eVal1)),color='red') # denoised evalues\n",
    "plt.plot(np.log(np.diag(eVal0)))"
   ]
  },
  {
   "cell_type": "markdown",
   "metadata": {},
   "source": [
    " - Comments: Not sure what is happening here but the signal seems to be lost for top 50 CCs here. Could be to do with time period? Although the Q factor remain the same. Worth further discussing with the team."
   ]
  },
  {
   "cell_type": "markdown",
   "metadata": {},
   "source": [
    "## Second Time Window"
   ]
  },
  {
   "cell_type": "code",
   "execution_count": 47,
   "metadata": {},
   "outputs": [
    {
     "name": "stdout",
     "output_type": "stream",
     "text": [
      "Number of facts: 1\n",
      "Variance: 0.99999\n",
      "Bulk of Evalue: 2.664884414956712\n"
     ]
    },
    {
     "data": {
      "text/plain": [
       "[<matplotlib.lines.Line2D at 0x7f9cd2bdca00>]"
      ]
     },
     "execution_count": 47,
     "metadata": {},
     "output_type": "execute_result"
    },
    {
     "data": {
      "image/png": "[encoded data removed]",
      "text/plain": [
       "<Figure size 576x396 with 1 Axes>"
      ]
     },
     "metadata": {},
     "output_type": "display_data"
    }
   ],
   "source": [
    "eVal0,eVec0=getPCA(corr_mat_2nd)\n",
    "# set q factor\n",
    "q = 2.5 # T/N 125/50\n",
    "\n",
    "# get bulk of Evalue and Variance\n",
    "eMax0, var0=findMaxEval(np.diag(eVal0), q, bWidth=.01)\n",
    "# get nFacts\n",
    "nFacts0=eVal0.shape[0]-np.diag(eVal0)[::-1].searchsorted(eMax0)\n",
    "\n",
    "print(f'Number of facts: {nFacts0}')\n",
    "print(f'Variance: {var0}')\n",
    "print(f'Bulk of Evalue: {eMax0}')\n",
    "\n",
    "# get denoised correlation matrix\n",
    "corr1=denoisedCorr(eVal0,eVec0,nFacts0)\n",
    "eVal1,eVec1=getPCA(corr1)\n",
    "\n",
    "plt.xlabel('eValue Number')\n",
    "plt.ylabel('eVal Log Scale')\n",
    "plt.plot(np.log(np.diag(eVal1)),color='red') # denoised evalues\n",
    "plt.plot(np.log(np.diag(eVal0)))"
   ]
  },
  {
   "cell_type": "markdown",
   "metadata": {},
   "source": [
    "## Third Time Window"
   ]
  },
  {
   "cell_type": "code",
   "execution_count": 48,
   "metadata": {},
   "outputs": [
    {
     "name": "stdout",
     "output_type": "stream",
     "text": [
      "Number of facts: 2\n",
      "Variance: 0.99999\n",
      "Bulk of Evalue: 2.664884414956712\n"
     ]
    },
    {
     "data": {
      "text/plain": [
       "[<matplotlib.lines.Line2D at 0x7f9cd2bc00d0>]"
      ]
     },
     "execution_count": 48,
     "metadata": {},
     "output_type": "execute_result"
    },
    {
     "data": {
      "image/png": "[encoded data removed]",
      "text/plain": [
       "<Figure size 576x396 with 1 Axes>"
      ]
     },
     "metadata": {},
     "output_type": "display_data"
    }
   ],
   "source": [
    "eVal0,eVec0=getPCA(corr_mat_3rd)\n",
    "# set q factor\n",
    "q = 2.5 # T/N 125/50\n",
    "\n",
    "# get bulk of Evalue and Variance\n",
    "eMax0, var0=findMaxEval(np.diag(eVal0), q, bWidth=.01)\n",
    "# get nFacts\n",
    "nFacts0=eVal0.shape[0]-np.diag(eVal0)[::-1].searchsorted(eMax0)\n",
    "\n",
    "print(f'Number of facts: {nFacts0}')\n",
    "print(f'Variance: {var0}')\n",
    "print(f'Bulk of Evalue: {eMax0}')\n",
    "\n",
    "# get denoised correlation matrix\n",
    "corr1=denoisedCorr(eVal0,eVec0,nFacts0)\n",
    "eVal1,eVec1=getPCA(corr1)\n",
    "\n",
    "plt.xlabel('eValue Number')\n",
    "plt.ylabel('eVal Log Scale')\n",
    "plt.plot(np.log(np.diag(eVal1)),color='red') # denoised evalues\n",
    "plt.plot(np.log(np.diag(eVal0)))"
   ]
  },
  {
   "cell_type": "code",
   "execution_count": null,
   "metadata": {},
   "outputs": [],
   "source": []
  }
 ],
 "metadata": {
  "kernelspec": {
   "display_name": "Python 3",
   "language": "python",
   "name": "python3"
  },
  "language_info": {
   "codemirror_mode": {
    "name": "ipython",
    "version": 3
   },
   "file_extension": ".py",
   "mimetype": "text/x-python",
   "name": "python",
   "nbconvert_exporter": "python",
   "pygments_lexer": "ipython3",
   "version": "3.8.6"
  }
 },
 "nbformat": 4,
 "nbformat_minor": 4
}
